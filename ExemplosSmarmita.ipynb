{
  "nbformat": 4,
  "nbformat_minor": 0,
  "metadata": {
    "colab": {
      "name": "ExemplosSmarmita.ipynb",
      "provenance": [],
      "collapsed_sections": [],
      "include_colab_link": true
    },
    "kernelspec": {
      "name": "python3",
      "display_name": "Python 3"
    }
  },
  "cells": [
    {
      "cell_type": "markdown",
      "metadata": {
        "id": "view-in-github",
        "colab_type": "text"
      },
      "source": [
        "<a href=\"https://colab.research.google.com/github/lhnr/Hello-word/blob/master/ExemplosSmarmita.ipynb\" target=\"_parent\"><img src=\"https://colab.research.google.com/assets/colab-badge.svg\" alt=\"Open In Colab\"/></a>"
      ]
    },
    {
      "cell_type": "code",
      "metadata": {
        "id": "CeCAXZ_3V-eB",
        "colab_type": "code",
        "colab": {}
      },
      "source": [
        "!pip install -q requests\n"
      ],
      "execution_count": 0,
      "outputs": []
    },
    {
      "cell_type": "code",
      "metadata": {
        "id": "tDc1KXfjF6Jd",
        "colab_type": "code",
        "colab": {}
      },
      "source": [
        "import requests\n",
        "import json"
      ],
      "execution_count": 0,
      "outputs": []
    },
    {
      "cell_type": "code",
      "metadata": {
        "id": "aAvpXs9PWNyb",
        "colab_type": "code",
        "outputId": "e1acdd15-0f45-41b3-c7ee-3feb2992dffd",
        "colab": {
          "base_uri": "https://localhost:8080/",
          "height": 119
        }
      },
      "source": [
        "# Cria uma 'capabilidade'\n",
        "\n",
        "# Smart Grid - Resource Catalog - Post - Catalog capabilities\n",
        "\n",
        "capability_json = {\n",
        "  \"name\": \"tensao2_Smarmita\",\n",
        "  \"description\": \"Mede a tensao utilizando em Voltes\",\n",
        "  \"capability_type\": \"sensor\"\n",
        "}\n",
        "r = requests.post('http://143.107.45.126:30122/catalog/capabilities/', json=capability_json)\n",
        "if(r.status_code == 201):\n",
        "  content = json.loads(r.text)\n",
        "  print(json.dumps(content, indent=2, sort_keys=True))\n",
        "else:\n",
        "  print('Status code: '+str(r.status_code))"
      ],
      "execution_count": 0,
      "outputs": [
        {
          "output_type": "stream",
          "text": [
            "{\n",
            "  \"capability_type\": \"sensor\",\n",
            "  \"description\": \"Mede a tensao utilizando em Voltes\",\n",
            "  \"id\": 11,\n",
            "  \"name\": \"tensao2_Smarmita\"\n",
            "}\n"
          ],
          "name": "stdout"
        }
      ]
    },
    {
      "cell_type": "code",
      "metadata": {
        "id": "quLV3uNWWlxt",
        "colab_type": "code",
        "outputId": "8b5c3d68-45fe-4e72-c010-e4fe5e4491dc",
        "colab": {
          "base_uri": "https://localhost:8080/",
          "height": 132
        }
      },
      "source": [
        "# Apaga as 'capabilities'\n",
        "\n",
        "# Smart grid - Resource Catalog - Delete - Catalog capabilities\n",
        "\n",
        "r = requests.delete('http://143.107.45.126:30122/catalog/capabilities/\"name\":\"Tesao2_Smarmita\")\n",
        "if (r.status == 204):\n",
        "  print(ok)\n",
        "else:\n",
        "  print('Status code: '+str(r.status_code))"
      ],
      "execution_count": 0,
      "outputs": [
        {
          "output_type": "error",
          "ename": "SyntaxError",
          "evalue": "ignored",
          "traceback": [
            "\u001b[0;36m  File \u001b[0;32m\"<ipython-input-7-f48258533df5>\"\u001b[0;36m, line \u001b[0;32m2\u001b[0m\n\u001b[0;31m    r = requests.delete('http://143.107.45.126:30122/catalog/capabilities/\"name\":\"Tesao2_Smarmita\")\u001b[0m\n\u001b[0m                                                                                                   ^\u001b[0m\n\u001b[0;31mSyntaxError\u001b[0m\u001b[0;31m:\u001b[0m EOL while scanning string literal\n"
          ]
        }
      ]
    },
    {
      "cell_type": "code",
      "metadata": {
        "id": "LhF63cniWiMT",
        "colab_type": "code",
        "outputId": "51f1176e-b7b3-43a3-cd35-6dc56dbdc24e",
        "colab": {
          "base_uri": "https://localhost:8080/",
          "height": 1000
        }
      },
      "source": [
        "# Exibe as 'capabilities'\n",
        "\n",
        "# Smart grid - Resource Catalog - Get - Catalog capabilities\n",
        "\n",
        "r = requests.get('http://143.107.45.126:30122/catalog/capabilities')\n",
        "if(r.status_code == 200):\n",
        "  content = json.loads(r.text)\n",
        "  print(json.dumps(content, indent=2, sort_keys=True))\n",
        "else:\n",
        "  print('Status code: '+str(r.status_code))"
      ],
      "execution_count": 0,
      "outputs": [
        {
          "output_type": "stream",
          "text": [
            "{\n",
            "  \"capabilities\": [\n",
            "    {\n",
            "      \"description\": \"Mede a temperatura do smartmeter em graus Celsius\",\n",
            "      \"function\": 0,\n",
            "      \"id\": 1,\n",
            "      \"name\": \"temperatura\"\n",
            "    },\n",
            "    {\n",
            "      \"description\": \"Mede a corrente do Medidor em graus Celsius\",\n",
            "      \"function\": 0,\n",
            "      \"id\": 2,\n",
            "      \"name\": \"Corrente3_Smarmita\"\n",
            "    },\n",
            "    {\n",
            "      \"description\": \"Mede a corrente do Medidor em graus Celsius\",\n",
            "      \"function\": 0,\n",
            "      \"id\": 3,\n",
            "      \"name\": \"Corrente1_Smarmita\"\n",
            "    },\n",
            "    {\n",
            "      \"description\": \"Mede a corrente do Medidor em graus Celsius\",\n",
            "      \"function\": 0,\n",
            "      \"id\": 4,\n",
            "      \"name\": \"Corrente2_Smarmita\"\n",
            "    },\n",
            "    {\n",
            "      \"description\": \"Mede a corrente do Medidor em graus Celsius\",\n",
            "      \"function\": 0,\n",
            "      \"id\": 5,\n",
            "      \"name\": \"Tesao2_Smarmita\"\n",
            "    },\n",
            "    {\n",
            "      \"description\": \"Mede a corrente do Medidor em graus Celsius\",\n",
            "      \"function\": 0,\n",
            "      \"id\": 6,\n",
            "      \"name\": \"Tesao1_Smarmita\"\n",
            "    },\n",
            "    {\n",
            "      \"description\": \"Mede a tensao utilizando em Voltes\",\n",
            "      \"function\": 0,\n",
            "      \"id\": 7,\n",
            "      \"name\": \"Tesao3_Smarmita\"\n",
            "    },\n",
            "    {\n",
            "      \"description\": \"Mede a tensao utilizando em Voltes\",\n",
            "      \"function\": 0,\n",
            "      \"id\": 8,\n",
            "      \"name\": \"tesao3_Smarmita\"\n",
            "    },\n",
            "    {\n",
            "      \"description\": \"Mede a tensao utilizando em Voltes\",\n",
            "      \"function\": 0,\n",
            "      \"id\": 9,\n",
            "      \"name\": \"tensao3_Smarmita\"\n",
            "    },\n",
            "    {\n",
            "      \"description\": \"Mede a tensao utilizando em Voltes\",\n",
            "      \"function\": 0,\n",
            "      \"id\": 10,\n",
            "      \"name\": \"tensao1_Smarmita\"\n",
            "    },\n",
            "    {\n",
            "      \"description\": \"Mede a tensao utilizando em Voltes\",\n",
            "      \"function\": 0,\n",
            "      \"id\": 11,\n",
            "      \"name\": \"tensao2_Smarmita\"\n",
            "    }\n",
            "  ]\n",
            "}\n"
          ],
          "name": "stdout"
        }
      ]
    },
    {
      "cell_type": "code",
      "metadata": {
        "id": "9OvFZVYbWlXs",
        "colab_type": "code",
        "outputId": "e338c595-ce43-4c62-e8d4-c84c3ebe42eb",
        "colab": {
          "base_uri": "https://localhost:8080/",
          "height": 391
        }
      },
      "source": [
        "# Cria um 'recurso'\n",
        "\n",
        "# Smart Grid - Resource Catalog - Post - Catalog resource\n",
        "\n",
        "resource_json = {\n",
        "  \"data\": {\n",
        "    \"description\": \"Smarmita2\",\n",
        "    \"capabilities\": [\n",
        "      \"tensao2_Smarmita\"\n",
        "    ],\n",
        "    \"status\": \"active\",\n",
        "    \"lat\": -23.559616,\n",
        "    \"lon\": -46.731386\n",
        "  }\n",
        "}\n",
        "r = requests.post('http://143.107.45.126:30122/catalog/resources', json=resource_json)\n",
        "uuid = ''\n",
        "if(r.status_code == 201):\n",
        "  resource = json.loads(r.text)\n",
        "  uuid = resource['data']['uuid']\n",
        "  print(json.dumps(resource, indent=2))\n",
        "else:\n",
        "  print('Status code: '+str(r.status_code))"
      ],
      "execution_count": 0,
      "outputs": [
        {
          "output_type": "stream",
          "text": [
            "{\n",
            "  \"data\": {\n",
            "    \"id\": 12,\n",
            "    \"uri\": null,\n",
            "    \"created_at\": \"2019-12-13T18:02:27.461Z\",\n",
            "    \"updated_at\": \"2019-12-13T18:02:27.461Z\",\n",
            "    \"lat\": -23.559616,\n",
            "    \"lon\": -46.731386,\n",
            "    \"status\": \"active\",\n",
            "    \"collect_interval\": null,\n",
            "    \"description\": \"Smarmita2\",\n",
            "    \"uuid\": \"a51e200c-33ab-4f2b-b6bd-d3a89dac8c17\",\n",
            "    \"city\": null,\n",
            "    \"neighborhood\": null,\n",
            "    \"state\": null,\n",
            "    \"postal_code\": null,\n",
            "    \"country\": null,\n",
            "    \"capabilities\": [\n",
            "      \"tensao2_Smarmita\"\n",
            "    ]\n",
            "  }\n",
            "}\n"
          ],
          "name": "stdout"
        }
      ]
    },
    {
      "cell_type": "code",
      "metadata": {
        "id": "4DO_RtoHYkuL",
        "colab_type": "code",
        "colab": {}
      },
      "source": [
        ""
      ],
      "execution_count": 0,
      "outputs": []
    },
    {
      "cell_type": "code",
      "metadata": {
        "id": "pyDEbJCbS4jq",
        "colab_type": "code",
        "outputId": "12ed3b03-44b0-418b-9033-e447a3cc398d",
        "colab": {
          "base_uri": "https://localhost:8080/",
          "height": 1000
        }
      },
      "source": [
        "# Exibe os 'resources'\n",
        "\n",
        "# Playground - Resource Catalog - Get - Catalog resource\n",
        "\n",
        "r = requests.get('http://143.107.45.126:30122/catalog/resources')\n",
        "if(r.status_code == 200):\n",
        "  content = json.loads(r.text)\n",
        "  print(json.dumps(content, indent=2, sort_keys=True))\n",
        "else:\n",
        "  print('Status code: '+str(r.status_code))"
      ],
      "execution_count": 0,
      "outputs": [
        {
          "output_type": "stream",
          "text": [
            "{\n",
            "  \"resources\": [\n",
            "    {\n",
            "      \"capabilities\": [\n",
            "        \"tensao2_Smarmita\"\n",
            "      ],\n",
            "      \"city\": null,\n",
            "      \"collect_interval\": null,\n",
            "      \"country\": null,\n",
            "      \"created_at\": \"2019-12-13T18:02:27.461Z\",\n",
            "      \"description\": \"Smarmita2\",\n",
            "      \"id\": 12,\n",
            "      \"lat\": -23.559616,\n",
            "      \"lon\": -46.731386,\n",
            "      \"neighborhood\": null,\n",
            "      \"postal_code\": null,\n",
            "      \"state\": null,\n",
            "      \"status\": \"active\",\n",
            "      \"updated_at\": \"2019-12-13T18:02:27.461Z\",\n",
            "      \"uri\": null,\n",
            "      \"uuid\": \"a51e200c-33ab-4f2b-b6bd-d3a89dac8c17\"\n",
            "    },\n",
            "    {\n",
            "      \"capabilities\": [\n",
            "        \"tensao1_Smarmita\"\n",
            "      ],\n",
            "      \"city\": null,\n",
            "      \"collect_interval\": null,\n",
            "      \"country\": null,\n",
            "      \"created_at\": \"2019-12-13T18:02:18.717Z\",\n",
            "      \"description\": \"Smarmita2\",\n",
            "      \"id\": 11,\n",
            "      \"lat\": -23.559616,\n",
            "      \"lon\": -46.731386,\n",
            "      \"neighborhood\": null,\n",
            "      \"postal_code\": null,\n",
            "      \"state\": null,\n",
            "      \"status\": \"active\",\n",
            "      \"updated_at\": \"2019-12-13T18:02:18.717Z\",\n",
            "      \"uri\": null,\n",
            "      \"uuid\": \"35edd59b-bbb4-4774-a60c-eb8e392438a3\"\n",
            "    },\n",
            "    {\n",
            "      \"capabilities\": [],\n",
            "      \"city\": null,\n",
            "      \"collect_interval\": null,\n",
            "      \"country\": null,\n",
            "      \"created_at\": \"2019-12-13T18:01:17.388Z\",\n",
            "      \"description\": \"Smarmita2\",\n",
            "      \"id\": 10,\n",
            "      \"lat\": -23.559616,\n",
            "      \"lon\": -46.731386,\n",
            "      \"neighborhood\": null,\n",
            "      \"postal_code\": null,\n",
            "      \"state\": null,\n",
            "      \"status\": \"active\",\n",
            "      \"updated_at\": \"2019-12-13T18:01:17.388Z\",\n",
            "      \"uri\": null,\n",
            "      \"uuid\": \"ca869303-da1b-449c-862a-fa614e74fe27\"\n",
            "    },\n",
            "    {\n",
            "      \"capabilities\": [\n",
            "        \"tensao3_Smarmita\"\n",
            "      ],\n",
            "      \"city\": null,\n",
            "      \"collect_interval\": null,\n",
            "      \"country\": null,\n",
            "      \"created_at\": \"2019-12-13T17:56:44.908Z\",\n",
            "      \"description\": \"Smarmita2\",\n",
            "      \"id\": 9,\n",
            "      \"lat\": -23.559616,\n",
            "      \"lon\": -46.731386,\n",
            "      \"neighborhood\": null,\n",
            "      \"postal_code\": null,\n",
            "      \"state\": null,\n",
            "      \"status\": \"active\",\n",
            "      \"updated_at\": \"2019-12-13T17:56:44.908Z\",\n",
            "      \"uri\": null,\n",
            "      \"uuid\": \"2b388143-d820-42a7-ba0e-f0fc7411a4bb\"\n",
            "    },\n",
            "    {\n",
            "      \"capabilities\": [],\n",
            "      \"city\": null,\n",
            "      \"collect_interval\": null,\n",
            "      \"country\": null,\n",
            "      \"created_at\": \"2019-12-13T17:42:54.228Z\",\n",
            "      \"description\": \"Smarmita2\",\n",
            "      \"id\": 8,\n",
            "      \"lat\": -23.559616,\n",
            "      \"lon\": -46.731386,\n",
            "      \"neighborhood\": null,\n",
            "      \"postal_code\": null,\n",
            "      \"state\": null,\n",
            "      \"status\": \"active\",\n",
            "      \"updated_at\": \"2019-12-13T17:42:54.228Z\",\n",
            "      \"uri\": null,\n",
            "      \"uuid\": \"5ea79d93-8d1b-4871-816e-18ee1582c676\"\n",
            "    },\n",
            "    {\n",
            "      \"capabilities\": [],\n",
            "      \"city\": null,\n",
            "      \"collect_interval\": null,\n",
            "      \"country\": null,\n",
            "      \"created_at\": \"2019-12-13T17:41:41.250Z\",\n",
            "      \"description\": \"Smarmita2\",\n",
            "      \"id\": 7,\n",
            "      \"lat\": -23.559616,\n",
            "      \"lon\": -46.731386,\n",
            "      \"neighborhood\": null,\n",
            "      \"postal_code\": null,\n",
            "      \"state\": null,\n",
            "      \"status\": \"active\",\n",
            "      \"updated_at\": \"2019-12-13T17:41:41.250Z\",\n",
            "      \"uri\": null,\n",
            "      \"uuid\": \"cbb9932f-dc84-422b-975c-cff11aba7e34\"\n",
            "    },\n",
            "    {\n",
            "      \"capabilities\": [\n",
            "        \"temperatura\"\n",
            "      ],\n",
            "      \"city\": null,\n",
            "      \"collect_interval\": null,\n",
            "      \"country\": null,\n",
            "      \"created_at\": \"2019-12-11T20:02:37.669Z\",\n",
            "      \"description\": \"Smarmita2\",\n",
            "      \"id\": 6,\n",
            "      \"lat\": -23.559616,\n",
            "      \"lon\": -46.731386,\n",
            "      \"neighborhood\": null,\n",
            "      \"postal_code\": null,\n",
            "      \"state\": null,\n",
            "      \"status\": \"active\",\n",
            "      \"updated_at\": \"2019-12-11T20:02:37.669Z\",\n",
            "      \"uri\": null,\n",
            "      \"uuid\": \"38119c06-f35c-480b-b15f-d26f945a8e66\"\n",
            "    },\n",
            "    {\n",
            "      \"capabilities\": [\n",
            "        \"temperatura\"\n",
            "      ],\n",
            "      \"city\": null,\n",
            "      \"collect_interval\": null,\n",
            "      \"country\": null,\n",
            "      \"created_at\": \"2019-12-11T20:01:20.693Z\",\n",
            "      \"description\": \"Smarmita2\",\n",
            "      \"id\": 5,\n",
            "      \"lat\": -23.559616,\n",
            "      \"lon\": -46.731386,\n",
            "      \"neighborhood\": null,\n",
            "      \"postal_code\": null,\n",
            "      \"state\": null,\n",
            "      \"status\": \"active\",\n",
            "      \"updated_at\": \"2019-12-11T20:01:20.693Z\",\n",
            "      \"uri\": null,\n",
            "      \"uuid\": \"aeea1d3b-bf59-4b21-936c-8aed161db00a\"\n",
            "    },\n",
            "    {\n",
            "      \"capabilities\": [\n",
            "        \"temperatura\"\n",
            "      ],\n",
            "      \"city\": null,\n",
            "      \"collect_interval\": null,\n",
            "      \"country\": null,\n",
            "      \"created_at\": \"2019-12-11T20:01:05.337Z\",\n",
            "      \"description\": \"Smarmita Minha\",\n",
            "      \"id\": 4,\n",
            "      \"lat\": -23.559616,\n",
            "      \"lon\": -46.731386,\n",
            "      \"neighborhood\": null,\n",
            "      \"postal_code\": null,\n",
            "      \"state\": null,\n",
            "      \"status\": \"active\",\n",
            "      \"updated_at\": \"2019-12-11T20:01:05.337Z\",\n",
            "      \"uri\": null,\n",
            "      \"uuid\": \"bc430682-4c35-41ce-a89d-b3444ef9237f\"\n",
            "    },\n",
            "    {\n",
            "      \"capabilities\": [],\n",
            "      \"city\": null,\n",
            "      \"collect_interval\": null,\n",
            "      \"country\": null,\n",
            "      \"created_at\": \"2019-12-11T20:00:23.458Z\",\n",
            "      \"description\": \"Smarmita Minha\",\n",
            "      \"id\": 3,\n",
            "      \"lat\": -23.559616,\n",
            "      \"lon\": -46.731386,\n",
            "      \"neighborhood\": null,\n",
            "      \"postal_code\": null,\n",
            "      \"state\": null,\n",
            "      \"status\": \"active\",\n",
            "      \"updated_at\": \"2019-12-11T20:00:23.458Z\",\n",
            "      \"uri\": null,\n",
            "      \"uuid\": \"5461a07e-6145-4a0d-887a-9ea642fd492d\"\n",
            "    },\n",
            "    {\n",
            "      \"capabilities\": [],\n",
            "      \"city\": null,\n",
            "      \"collect_interval\": null,\n",
            "      \"country\": null,\n",
            "      \"created_at\": \"2019-12-11T19:59:53.342Z\",\n",
            "      \"description\": \"Smarmita Minha\",\n",
            "      \"id\": 2,\n",
            "      \"lat\": -23.559616,\n",
            "      \"lon\": -46.731386,\n",
            "      \"neighborhood\": null,\n",
            "      \"postal_code\": null,\n",
            "      \"state\": null,\n",
            "      \"status\": \"active\",\n",
            "      \"updated_at\": \"2019-12-11T19:59:53.342Z\",\n",
            "      \"uri\": null,\n",
            "      \"uuid\": \"bb00a5fb-4ba2-4c4e-b7ac-c6820ee062ef\"\n",
            "    },\n",
            "    {\n",
            "      \"capabilities\": [],\n",
            "      \"city\": null,\n",
            "      \"collect_interval\": null,\n",
            "      \"country\": null,\n",
            "      \"created_at\": \"2019-12-10T19:40:45.007Z\",\n",
            "      \"description\": \"Smarmita Minha\",\n",
            "      \"id\": 1,\n",
            "      \"lat\": -23.559616,\n",
            "      \"lon\": -46.731386,\n",
            "      \"neighborhood\": null,\n",
            "      \"postal_code\": null,\n",
            "      \"state\": null,\n",
            "      \"status\": \"active\",\n",
            "      \"updated_at\": \"2019-12-10T19:40:45.007Z\",\n",
            "      \"uri\": null,\n",
            "      \"uuid\": \"6ca2f525-6578-4e25-a785-13c98cf05d01\"\n",
            "    }\n",
            "  ]\n",
            "}\n"
          ],
          "name": "stdout"
        }
      ]
    },
    {
      "cell_type": "code",
      "metadata": {
        "id": "lJqDrPbcZJJe",
        "colab_type": "code",
        "colab": {}
      },
      "source": [
        ""
      ],
      "execution_count": 0,
      "outputs": []
    },
    {
      "cell_type": "code",
      "metadata": {
        "id": "gJ2UZsMCZCiS",
        "colab_type": "code",
        "outputId": "9f9e8967-7f40-44f0-d586-888f52eba95f",
        "colab": {
          "base_uri": "https://localhost:8080/",
          "height": 34
        }
      },
      "source": [
        "# Adiciona dado da 'capability' ao 'resource'\n",
        "\n",
        "# Playground - Resource Adaptor - Post - Adaptor resources\n",
        "\n",
        "capability_data_json = {\n",
        "  \"data\": [\n",
        "    {\n",
        "      \"tensao1_Smarmita\": 2.2,\n",
        "      \"timestamp\": \"2019-06-14T10:52:25.428Z\"\n",
        "    },\n",
        "    {\n",
        "      \"tensao2_Smarmita\": 31,\n",
        "      \"timestamp\": \"2019-06-14T15:57:25.428Z\"\n",
        "    },\n",
        "    {\n",
        "      \"tensao3_Smarmita\": 31,\n",
        "      \"timestamp\": \"2019-06-14T15:57:25.428Z\"\n",
        "    }\n",
        "  ]\n",
        "}\n",
        "r = requests.post('http://143.107.45.126:30122/adaptor/resources/'+uuid+'/data/grid_monitoring', json=capability_data_json)\n",
        "if(r.status_code == 201):\n",
        "  print('Ok')\n",
        "else:\n",
        "  print('Status code: '+str(r.status_code))"
      ],
      "execution_count": 0,
      "outputs": [
        {
          "output_type": "stream",
          "text": [
            "Ok\n"
          ],
          "name": "stdout"
        }
      ]
    },
    {
      "cell_type": "code",
      "metadata": {
        "id": "8uF9GXXrZe6p",
        "colab_type": "code",
        "colab": {}
      },
      "source": [
        ""
      ],
      "execution_count": 0,
      "outputs": []
    },
    {
      "cell_type": "code",
      "metadata": {
        "id": "RrgX-lajd6dw",
        "colab_type": "code",
        "outputId": "e7c4167f-319c-452f-925a-9ebcc9478d87",
        "colab": {
          "base_uri": "https://localhost:8080/",
          "height": 646
        }
      },
      "source": [
        "# Exibe dados do 'resource'\n",
        "\n",
        "# Playground - Data collector - Post - Resources data\n",
        "\n",
        "r = requests.post('http://143.107.45.126:30122/collector/resources/'+uuid+'/data')\n",
        "if(r.status_code == 200):\n",
        "  content = json.loads(r.text)\n",
        "  print(json.dumps(content, indent=2, sort_keys=True))\n",
        "else:\n",
        "  print('Status code: '+str(r.status_code))"
      ],
      "execution_count": 0,
      "outputs": [
        {
          "output_type": "stream",
          "text": [
            "{\n",
            "  \"resources\": [\n",
            "    {\n",
            "      \"capabilities\": {\n",
            "        \"environment_monitoring\": [\n",
            "          {\n",
            "            \"date\": \"2019-06-14T15:57:25.428Z\",\n",
            "            \"tensao3_Smarmita\": 31\n",
            "          },\n",
            "          {\n",
            "            \"date\": \"2019-06-14T15:57:25.428Z\",\n",
            "            \"tensao2_Smarmita\": 31\n",
            "          },\n",
            "          {\n",
            "            \"date\": \"2019-06-14T10:52:25.428Z\",\n",
            "            \"tensao1_Smarmita\": 2.2\n",
            "          }\n",
            "        ],\n",
            "        \"grid_monitoring\": [\n",
            "          {\n",
            "            \"date\": \"2019-06-14T15:57:25.428Z\",\n",
            "            \"tensao3_Smarmita\": 31\n",
            "          },\n",
            "          {\n",
            "            \"date\": \"2019-06-14T10:52:25.428Z\",\n",
            "            \"tensao1_Smarmita\": 2.2\n",
            "          },\n",
            "          {\n",
            "            \"date\": \"2019-06-14T15:57:25.428Z\",\n",
            "            \"tensao2_Smarmita\": 31\n",
            "          }\n",
            "        ]\n",
            "      },\n",
            "      \"uuid\": \"a51e200c-33ab-4f2b-b6bd-d3a89dac8c17\"\n",
            "    }\n",
            "  ]\n",
            "}\n"
          ],
          "name": "stdout"
        }
      ]
    }
  ]
}